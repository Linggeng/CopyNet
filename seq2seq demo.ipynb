{
 "cells": [
  {
   "cell_type": "code",
   "execution_count": 1,
   "metadata": {},
   "outputs": [
    {
     "name": "stdout",
     "output_type": "stream",
     "text": [
      "<tensorflow.python.client.session.Session object at 0x7fa27014a8d0>\n"
     ]
    }
   ],
   "source": [
    "import tensorflow as tf\n",
    "\n",
    "sess = tf.Session()\n",
    "print sess"
   ]
  },
  {
   "cell_type": "code",
   "execution_count": 2,
   "metadata": {},
   "outputs": [
    {
     "name": "stdout",
     "output_type": "stream",
     "text": [
      "<tensorflow.python.ops.rnn_cell_impl.LSTMCell object at 0x7fa260342790>\n",
      "LSTMStateTuple(c=<tf.Tensor 'LSTMCellZeroState/zeros:0' shape=(100, 300) dtype=float32>, h=<tf.Tensor 'LSTMCellZeroState/zeros_1:0' shape=(100, 300) dtype=float32>)\n",
      "Tensor(\"embedding_lookup:0\", shape=(100, 20, 256), dtype=float32)\n"
     ]
    }
   ],
   "source": [
    "#cell = tf.contrib.rnn.MultiRNNCell([tf.contrib.rnn.LSTMCell(300) for i in range(3)]) \n",
    "cell = tf.contrib.rnn.LSTMCell(300)\n",
    "# cell = tf.contrib.rnn.DropoutWrapper(cell, output_keep_prob=0.9)\n",
    "print cell\n",
    "init_state = cell.zero_state(100, tf.float32)\n",
    "print init_state\n",
    "\n",
    "batch_size = 100\n",
    "seq_len = 20\n",
    "\n",
    "x = tf.placeholder(tf.int32, [batch_size, seq_len])\n",
    "#tf.get_variable_scope().reuse = True\n",
    "embedding_matrix = tf.get_variable('embedding', [10000, 256]) # |V| = 10000, emb_dim= 256\n",
    "inputs = tf.nn.embedding_lookup(embedding_matrix, x)\n",
    "print inputs"
   ]
  },
  {
   "cell_type": "code",
   "execution_count": 4,
   "metadata": {
    "collapsed": true
   },
   "outputs": [],
   "source": [
    "?tf.layers.dense"
   ]
  },
  {
   "cell_type": "code",
   "execution_count": 3,
   "metadata": {},
   "outputs": [
    {
     "name": "stdout",
     "output_type": "stream",
     "text": [
      "Tensor(\"rnn/transpose:0\", shape=(100, 20, 300), dtype=float32)\n",
      "----\n",
      "LSTMStateTuple(c=<tf.Tensor 'rnn/while/Exit_2:0' shape=(100, 300) dtype=float32>, h=<tf.Tensor 'rnn/while/Exit_3:0' shape=(100, 300) dtype=float32>)\n"
     ]
    }
   ],
   "source": [
    "outputs, state = tf.nn.dynamic_rnn(cell, inputs = inputs, initial_state=init_state)\n",
    "\n",
    "print outputs\n",
    "print '----'\n",
    "print state"
   ]
  },
  {
   "cell_type": "code",
   "execution_count": 21,
   "metadata": {},
   "outputs": [
    {
     "name": "stdout",
     "output_type": "stream",
     "text": [
      "Tensor(\"dense_12/BiasAdd:0\", shape=(100, 10000), dtype=float32)\n",
      "Tensor(\"Placeholder_6:0\", shape=(100, 10000), dtype=int32)\n",
      "Tensor(\"Sum:0\", shape=(), dtype=float32)\n"
     ]
    }
   ],
   "source": [
    "logit = tf.layers.dense(state[1], 10000)\n",
    "print logit\n",
    "\n",
    "target = tf.placeholder(tf.int32, [batch_size, 10000])\n",
    "print target\n",
    "\n",
    "loss = tf.reduce_sum(tf.nn.softmax_cross_entropy_with_logits(logits=logit, labels=target))\n",
    "print loss"
   ]
  },
  {
   "cell_type": "code",
   "execution_count": 37,
   "metadata": {},
   "outputs": [
    {
     "name": "stdout",
     "output_type": "stream",
     "text": [
      "2.0\n"
     ]
    }
   ],
   "source": [
    "import numpy as np\n",
    "\n",
    "xx = np.random.randint(0, 10000, size=(100, 20))\n",
    "y = np.random.randint(0, 10000, size=100)\n",
    "yy = np.zeros((100, 10000), dtype=np.float16)\n",
    "yy[range(100), y] = 1\n",
    "print yy[0:2].sum()"
   ]
  },
  {
   "cell_type": "code",
   "execution_count": 38,
   "metadata": {},
   "outputs": [
    {
     "data": {
      "text/plain": [
       "921.04865"
      ]
     },
     "execution_count": 38,
     "metadata": {},
     "output_type": "execute_result"
    }
   ],
   "source": [
    "#sess.run(tf.global_variables_initializer())\n",
    "sess.run(loss, feed_dict={x:xx, target:yy})"
   ]
  },
  {
   "cell_type": "code",
   "execution_count": 39,
   "metadata": {},
   "outputs": [
    {
     "name": "stdout",
     "output_type": "stream",
     "text": [
      "<tensorflow.python.ops.rnn_cell_impl.LSTMCell object at 0x7fa24d2eba10>\n"
     ]
    }
   ],
   "source": [
    "decoder_cell = tf.nn.rnn_cell.LSTMCell(256)\n",
    "print decoder_cell"
   ]
  },
  {
   "cell_type": "code",
   "execution_count": 41,
   "metadata": {},
   "outputs": [
    {
     "name": "stdout",
     "output_type": "stream",
     "text": [
      "<tensorflow.contrib.seq2seq.python.ops.attention_wrapper.AttentionWrapper object at 0x7fa24d2fdbd0>\n"
     ]
    }
   ],
   "source": [
    "attention_mechanism = tf.contrib.seq2seq.BahdanauAttention(300, outputs) # 300 is encoder hidden size\n",
    "decoder_cell = tf.contrib.seq2seq.AttentionWrapper(decoder_cell, attention_mechanism)\n",
    "print decoder_cell"
   ]
  },
  {
   "cell_type": "code",
   "execution_count": 43,
   "metadata": {},
   "outputs": [
    {
     "ename": "SyntaxError",
     "evalue": "invalid syntax (<ipython-input-43-047b6d603a71>, line 3)",
     "output_type": "error",
     "traceback": [
      "\u001b[0;36m  File \u001b[0;32m\"<ipython-input-43-047b6d603a71>\"\u001b[0;36m, line \u001b[0;32m3\u001b[0m\n\u001b[0;31m    outputs, _ = tf.contrib.seq2seq.dynamic_decode(decoder,...)\u001b[0m\n\u001b[0m                                                           ^\u001b[0m\n\u001b[0;31mSyntaxError\u001b[0m\u001b[0;31m:\u001b[0m invalid syntax\n"
     ]
    }
   ],
   "source": [
    "helper = tf.contrib.seq2seq.TrainingHelper(decoder_inputs_emb, decoder_lengths, time_major=True)\n",
    "decoder = tf.contrib.seq2seq.BasicDecoder(decoder_cell, helper, outputs)\n",
    "outputs, _ = tf.contrib.seq2seq.dynamic_decode(decoder,...)\n",
    "logits = outputs.rnn_output"
   ]
  },
  {
   "cell_type": "code",
   "execution_count": 44,
   "metadata": {},
   "outputs": [
    {
     "ename": "NameError",
     "evalue": "name 'decoder_outputs' is not defined",
     "output_type": "error",
     "traceback": [
      "\u001b[0;31m---------------------------------------------------------------------------\u001b[0m",
      "\u001b[0;31mNameError\u001b[0m                                 Traceback (most recent call last)",
      "\u001b[0;32m<ipython-input-44-a4a88fbdc217>\u001b[0m in \u001b[0;36m<module>\u001b[0;34m()\u001b[0m\n\u001b[0;32m----> 1\u001b[0;31m \u001b[0mloss\u001b[0m \u001b[0;34m=\u001b[0m \u001b[0mtf\u001b[0m\u001b[0;34m.\u001b[0m\u001b[0mnn\u001b[0m\u001b[0;34m.\u001b[0m\u001b[0msparse_softmax_cross_entropy_with_logits\u001b[0m\u001b[0;34m(\u001b[0m\u001b[0mlabels\u001b[0m\u001b[0;34m=\u001b[0m\u001b[0mdecoder_outputs\u001b[0m\u001b[0;34m,\u001b[0m \u001b[0mlogits\u001b[0m\u001b[0;34m=\u001b[0m\u001b[0mlogits\u001b[0m\u001b[0;34m)\u001b[0m\u001b[0;34m\u001b[0m\u001b[0m\n\u001b[0m\u001b[1;32m      2\u001b[0m \u001b[0mtrain_loss\u001b[0m \u001b[0;34m=\u001b[0m \u001b[0mtf\u001b[0m\u001b[0;34m.\u001b[0m\u001b[0mreduce_mean\u001b[0m\u001b[0;34m(\u001b[0m\u001b[0mloss\u001b[0m \u001b[0;34m*\u001b[0m \u001b[0mtarget_weights\u001b[0m\u001b[0;34m)\u001b[0m\u001b[0;34m\u001b[0m\u001b[0m\n",
      "\u001b[0;31mNameError\u001b[0m: name 'decoder_outputs' is not defined"
     ]
    }
   ],
   "source": [
    "loss = tf.nn.sparse_softmax_cross_entropy_with_logits(labels=decoder_outputs, logits=logits)\n",
    "train_loss = tf.reduce_mean(loss * target_weights)"
   ]
  }
 ],
 "metadata": {
  "kernelspec": {
   "display_name": "Python 2",
   "language": "python",
   "name": "python2"
  },
  "language_info": {
   "codemirror_mode": {
    "name": "ipython",
    "version": 2
   },
   "file_extension": ".py",
   "mimetype": "text/x-python",
   "name": "python",
   "nbconvert_exporter": "python",
   "pygments_lexer": "ipython2",
   "version": "2.7.6"
  }
 },
 "nbformat": 4,
 "nbformat_minor": 2
}
